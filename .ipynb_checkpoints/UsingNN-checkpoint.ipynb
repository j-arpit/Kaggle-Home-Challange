{
 "cells": [
  {
   "cell_type": "code",
   "execution_count": 19,
   "metadata": {},
   "outputs": [],
   "source": [
    "import numpy as np\n",
    "import pandas as pd\n",
    "import time"
   ]
  },
  {
   "cell_type": "markdown",
   "metadata": {},
   "source": [
    "### Import Pre-processed Data"
   ]
  },
  {
   "cell_type": "code",
   "execution_count": 2,
   "metadata": {},
   "outputs": [],
   "source": [
    "X_train = np.load('X_train.npy')\n",
    "y_train = np.load('y_train.npy')\n",
    "X_val = np.load('X_val.npy')\n",
    "y_val = np.load('y_val.npy')\n",
    "test = np.load('test.npy')"
   ]
  },
  {
   "cell_type": "code",
   "execution_count": 3,
   "metadata": {},
   "outputs": [],
   "source": [
    "##Import libraries for neural network\n",
    "import torch\n",
    "import torch.nn as nn\n",
    "import torch.nn.functional as F\n",
    "import torch.optim as optim\n",
    "from torch.utils.data import DataLoader, TensorDataset"
   ]
  },
  {
   "cell_type": "markdown",
   "metadata": {},
   "source": [
    "### Prepare data for pytorch"
   ]
  },
  {
   "cell_type": "code",
   "execution_count": 4,
   "metadata": {},
   "outputs": [
    {
     "name": "stdout",
     "output_type": "stream",
     "text": [
      "torch.float32, torch.float32, torch.float32, torch.float32, torch.float32\n"
     ]
    }
   ],
   "source": [
    "X_train = torch.Tensor(X_train)\n",
    "y_train = torch.Tensor(y_train)\n",
    "training = TensorDataset(X_train, y_train)\n",
    "\n",
    "X_val = torch.Tensor(X_val)\n",
    "y_val = torch.Tensor(y_val)\n",
    "validation = TensorDataset(X_val, y_val)\n",
    "\n",
    "test = torch.Tensor(test) ## As test doesnot have target variable so there's no need to create Dataset Here\n",
    "\n",
    "print(\"{}, {}, {}, {}, {}\".format(X_train.dtype, X_val.dtype, y_train.dtype, y_val.dtype, test.dtype))"
   ]
  },
  {
   "cell_type": "code",
   "execution_count": 14,
   "metadata": {},
   "outputs": [],
   "source": [
    "trainset = DataLoader(training, batch_size=10, shuffle=True)\n",
    "validationset = DataLoader(validation, batch_size=10)\n",
    "testset = DataLoader(test, batch_size=10)"
   ]
  },
  {
   "cell_type": "markdown",
   "metadata": {},
   "source": [
    "### Neural Network"
   ]
  },
  {
   "cell_type": "code",
   "execution_count": 6,
   "metadata": {},
   "outputs": [
    {
     "name": "stdout",
     "output_type": "stream",
     "text": [
      "Net(\n",
      "  (fc1): Linear(in_features=133, out_features=64, bias=True)\n",
      "  (fc2): Linear(in_features=64, out_features=64, bias=True)\n",
      "  (fc3): Linear(in_features=64, out_features=64, bias=True)\n",
      "  (fc4): Linear(in_features=64, out_features=16, bias=True)\n",
      "  (fc5): Linear(in_features=16, out_features=1, bias=True)\n",
      ")\n"
     ]
    }
   ],
   "source": [
    "class Net(nn.Module):\n",
    "    \n",
    "    def __init__(self):\n",
    "        super().__init__()\n",
    "        self.fc1 = nn.Linear(133, 64) # input, output for a layer\n",
    "        self.fc2 = nn.Linear(64, 64)\n",
    "        self.fc3 = nn.Linear(64, 64)\n",
    "        self.fc4 = nn.Linear(64, 16) \n",
    "        self.fc5 = nn.Linear(16, 1)# 1 Target Variable\n",
    "        \n",
    "    def forward(self, x):\n",
    "        x = F.relu(self.fc1(x))\n",
    "        x = F.relu(self.fc2(x))\n",
    "        x = F.relu(self.fc3(x))\n",
    "        x = F.relu(self.fc4(x))\n",
    "        x = F.relu(self.fc5(x))\n",
    "        \n",
    "        return x\n",
    "\n",
    "net = Net()\n",
    "print(net)"
   ]
  },
  {
   "cell_type": "markdown",
   "metadata": {},
   "source": [
    "### Training "
   ]
  },
  {
   "cell_type": "code",
   "execution_count": 8,
   "metadata": {},
   "outputs": [
    {
     "name": "stdout",
     "output_type": "stream",
     "text": [
      "tensor(7.2005, grad_fn=<MseLossBackward>)\n",
      "tensor(2.4574, grad_fn=<MseLossBackward>)\n",
      "tensor(0.6498, grad_fn=<MseLossBackward>)\n",
      "tensor(0.3166, grad_fn=<MseLossBackward>)\n",
      "tensor(0.0856, grad_fn=<MseLossBackward>)\n",
      "tensor(0.1092, grad_fn=<MseLossBackward>)\n",
      "tensor(0.0133, grad_fn=<MseLossBackward>)\n",
      "tensor(0.6264, grad_fn=<MseLossBackward>)\n",
      "tensor(0.0024, grad_fn=<MseLossBackward>)\n",
      "tensor(0.4151, grad_fn=<MseLossBackward>)\n",
      "tensor(0.1146, grad_fn=<MseLossBackward>)\n",
      "tensor(0.0003, grad_fn=<MseLossBackward>)\n",
      "tensor(0.0587, grad_fn=<MseLossBackward>)\n",
      "tensor(0.5285, grad_fn=<MseLossBackward>)\n",
      "tensor(0.0010, grad_fn=<MseLossBackward>)\n",
      "tensor(0.1290, grad_fn=<MseLossBackward>)\n",
      "tensor(0.1509, grad_fn=<MseLossBackward>)\n",
      "tensor(0.0410, grad_fn=<MseLossBackward>)\n",
      "tensor(0.0426, grad_fn=<MseLossBackward>)\n",
      "tensor(0.1175, grad_fn=<MseLossBackward>)\n",
      "tensor(0.1673, grad_fn=<MseLossBackward>)\n",
      "tensor(0.1026, grad_fn=<MseLossBackward>)\n",
      "tensor(0.0400, grad_fn=<MseLossBackward>)\n",
      "tensor(0.1193, grad_fn=<MseLossBackward>)\n",
      "tensor(0.0295, grad_fn=<MseLossBackward>)\n",
      "tensor(0.0087, grad_fn=<MseLossBackward>)\n",
      "tensor(0.0043, grad_fn=<MseLossBackward>)\n",
      "tensor(0.0502, grad_fn=<MseLossBackward>)\n",
      "tensor(0.0080, grad_fn=<MseLossBackward>)\n",
      "tensor(0.0547, grad_fn=<MseLossBackward>)\n",
      "tensor(0.0284, grad_fn=<MseLossBackward>)\n",
      "tensor(0.0987, grad_fn=<MseLossBackward>)\n",
      "tensor(0.0218, grad_fn=<MseLossBackward>)\n",
      "tensor(0.0118, grad_fn=<MseLossBackward>)\n",
      "tensor(0.1450, grad_fn=<MseLossBackward>)\n",
      "tensor(0.0425, grad_fn=<MseLossBackward>)\n",
      "tensor(0.0137, grad_fn=<MseLossBackward>)\n",
      "tensor(0.0005, grad_fn=<MseLossBackward>)\n",
      "tensor(0.0316, grad_fn=<MseLossBackward>)\n",
      "tensor(0.0105, grad_fn=<MseLossBackward>)\n",
      "tensor(0.0055, grad_fn=<MseLossBackward>)\n",
      "tensor(0.0076, grad_fn=<MseLossBackward>)\n",
      "tensor(0.1210, grad_fn=<MseLossBackward>)\n",
      "tensor(0.0217, grad_fn=<MseLossBackward>)\n",
      "tensor(0.0117, grad_fn=<MseLossBackward>)\n",
      "tensor(0.1813, grad_fn=<MseLossBackward>)\n",
      "tensor(0.0671, grad_fn=<MseLossBackward>)\n",
      "tensor(0.0435, grad_fn=<MseLossBackward>)\n",
      "tensor(0.0033, grad_fn=<MseLossBackward>)\n",
      "tensor(0.1193, grad_fn=<MseLossBackward>)\n",
      "tensor(0.0015, grad_fn=<MseLossBackward>)\n",
      "tensor(0.0088, grad_fn=<MseLossBackward>)\n",
      "tensor(0.0061, grad_fn=<MseLossBackward>)\n",
      "tensor(0.0515, grad_fn=<MseLossBackward>)\n",
      "tensor(0.0019, grad_fn=<MseLossBackward>)\n",
      "tensor(0.0048, grad_fn=<MseLossBackward>)\n",
      "tensor(0.0695, grad_fn=<MseLossBackward>)\n",
      "tensor(0.0038, grad_fn=<MseLossBackward>)\n",
      "tensor(0.1815, grad_fn=<MseLossBackward>)\n",
      "tensor(0.0275, grad_fn=<MseLossBackward>)\n",
      "tensor(0.0002, grad_fn=<MseLossBackward>)\n",
      "tensor(0.4079, grad_fn=<MseLossBackward>)\n",
      "tensor(0.0191, grad_fn=<MseLossBackward>)\n",
      "tensor(0.0955, grad_fn=<MseLossBackward>)\n",
      "tensor(0.0093, grad_fn=<MseLossBackward>)\n",
      "tensor(0.0113, grad_fn=<MseLossBackward>)\n",
      "tensor(2.1376e-05, grad_fn=<MseLossBackward>)\n",
      "tensor(0.0023, grad_fn=<MseLossBackward>)\n",
      "tensor(0.0377, grad_fn=<MseLossBackward>)\n",
      "tensor(0.0179, grad_fn=<MseLossBackward>)\n",
      "tensor(0.0137, grad_fn=<MseLossBackward>)\n",
      "tensor(0.0153, grad_fn=<MseLossBackward>)\n",
      "tensor(0.0139, grad_fn=<MseLossBackward>)\n",
      "tensor(0.0490, grad_fn=<MseLossBackward>)\n",
      "tensor(0.0191, grad_fn=<MseLossBackward>)\n",
      "tensor(0.0091, grad_fn=<MseLossBackward>)\n",
      "tensor(0.0348, grad_fn=<MseLossBackward>)\n",
      "tensor(0.0002, grad_fn=<MseLossBackward>)\n",
      "tensor(0.0075, grad_fn=<MseLossBackward>)\n",
      "tensor(0.0025, grad_fn=<MseLossBackward>)\n",
      "tensor(0.0246, grad_fn=<MseLossBackward>)\n",
      "tensor(0.0889, grad_fn=<MseLossBackward>)\n",
      "tensor(0.2776, grad_fn=<MseLossBackward>)\n",
      "tensor(0.0002, grad_fn=<MseLossBackward>)\n",
      "tensor(0.0089, grad_fn=<MseLossBackward>)\n",
      "tensor(0.0091, grad_fn=<MseLossBackward>)\n",
      "tensor(2.0581e-05, grad_fn=<MseLossBackward>)\n",
      "tensor(0.0072, grad_fn=<MseLossBackward>)\n",
      "tensor(0.0096, grad_fn=<MseLossBackward>)\n",
      "tensor(0.0057, grad_fn=<MseLossBackward>)\n",
      "tensor(0.0238, grad_fn=<MseLossBackward>)\n",
      "tensor(6.3914e-05, grad_fn=<MseLossBackward>)\n",
      "tensor(0.0007, grad_fn=<MseLossBackward>)\n",
      "tensor(0.0086, grad_fn=<MseLossBackward>)\n",
      "tensor(0.0033, grad_fn=<MseLossBackward>)\n",
      "tensor(0.0025, grad_fn=<MseLossBackward>)\n",
      "tensor(0.0018, grad_fn=<MseLossBackward>)\n",
      "tensor(0.0275, grad_fn=<MseLossBackward>)\n",
      "tensor(0.0092, grad_fn=<MseLossBackward>)\n",
      "tensor(0.0017, grad_fn=<MseLossBackward>)\n",
      "21.788322687149048\n"
     ]
    }
   ],
   "source": [
    "optimizer = optim.Adam(net.parameters(), lr=0.001)\n",
    "EPOCHS = 100\n",
    "start = time.time()\n",
    "for epoch in range(EPOCHS):\n",
    "    for data in trainset:\n",
    "        X,y = data\n",
    "        net.zero_grad()\n",
    "        output = net(X)\n",
    "        loss = F.mse_loss(output, y)\n",
    "        loss.backward()\n",
    "        optimizer.step()\n",
    "    print(loss)\n",
    "end = time.time()\n",
    "print(end - start)"
   ]
  },
  {
   "cell_type": "markdown",
   "metadata": {},
   "source": [
    "### Validation"
   ]
  },
  {
   "cell_type": "code",
   "execution_count": 11,
   "metadata": {},
   "outputs": [
    {
     "name": "stdout",
     "output_type": "stream",
     "text": [
      "tensor(0.0151)\n",
      "tensor(0.0105)\n",
      "tensor(0.0369)\n",
      "tensor(0.0270)\n",
      "tensor(0.0060)\n",
      "tensor(0.0129)\n",
      "tensor(0.0085)\n",
      "tensor(0.0621)\n",
      "tensor(0.0543)\n",
      "tensor(0.0108)\n",
      "tensor(0.0465)\n",
      "tensor(0.0136)\n",
      "tensor(0.0122)\n",
      "tensor(0.0346)\n",
      "tensor(0.0137)\n",
      "tensor(0.0532)\n",
      "tensor(0.0168)\n",
      "tensor(0.0313)\n",
      "tensor(0.0263)\n",
      "tensor(0.0060)\n",
      "tensor(0.0195)\n",
      "tensor(0.0792)\n"
     ]
    }
   ],
   "source": [
    "correct = 0\n",
    "total = 0\n",
    "with torch.no_grad():\n",
    "    for data in validationset:\n",
    "        X,y = data\n",
    "        output = net(X)\n",
    "        print(F.mse_loss(output, y))"
   ]
  },
  {
   "cell_type": "markdown",
   "metadata": {},
   "source": [
    "### Time for Prediction"
   ]
  },
  {
   "cell_type": "code",
   "execution_count": 15,
   "metadata": {},
   "outputs": [],
   "source": [
    "pred = torch.LongTensor()\n",
    "for data in testset:\n",
    "    X = data\n",
    "    output = net(X)\n",
    "    pred = torch.cat((pred, output), dim=0)"
   ]
  },
  {
   "cell_type": "code",
   "execution_count": 16,
   "metadata": {},
   "outputs": [
    {
     "data": {
      "text/plain": [
       "torch.Size([1459, 1])"
      ]
     },
     "execution_count": 16,
     "metadata": {},
     "output_type": "execute_result"
    }
   ],
   "source": [
    "pred.shape"
   ]
  },
  {
   "cell_type": "markdown",
   "metadata": {},
   "source": [
    "### Submission For Kaggle"
   ]
  },
  {
   "cell_type": "code",
   "execution_count": 20,
   "metadata": {},
   "outputs": [],
   "source": [
    "submission = pred.detach().numpy()\n",
    "submission = np.expm1(submission)\n",
    "submission_file = pd.read_csv(\"sample_submission.csv\")\n",
    "submission_file.iloc[:, 1] = np.floor(submission)\n",
    "submission_file.to_csv(\"House_price_submission_nn.csv\", index=False)"
   ]
  }
 ],
 "metadata": {
  "kernelspec": {
   "display_name": "Python 3",
   "language": "python",
   "name": "python3"
  },
  "language_info": {
   "codemirror_mode": {
    "name": "ipython",
    "version": 3
   },
   "file_extension": ".py",
   "mimetype": "text/x-python",
   "name": "python",
   "nbconvert_exporter": "python",
   "pygments_lexer": "ipython3",
   "version": "3.7.6"
  }
 },
 "nbformat": 4,
 "nbformat_minor": 4
}
