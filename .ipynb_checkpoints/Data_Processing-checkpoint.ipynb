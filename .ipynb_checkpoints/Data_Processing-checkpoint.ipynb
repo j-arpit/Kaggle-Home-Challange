{
 "cells": [
  {
   "cell_type": "markdown",
   "metadata": {},
   "source": [
    "# Importing libraries and Dataset"
   ]
  },
  {
   "cell_type": "code",
   "execution_count": 1,
   "metadata": {},
   "outputs": [],
   "source": [
    "import numpy as np\n",
    "import pandas as pd\n",
    "import statsmodels.api  as sm # For p value calculations\n",
    "\n",
    "#import external functions \n",
    "import Quality # To Check the quality of the data\n",
    "import mapper # For Label encoding\n",
    "import missing_data # To Handle Missing data\n",
    "import Encoder # For OneHotEncoding"
   ]
  },
  {
   "cell_type": "code",
   "execution_count": 2,
   "metadata": {},
   "outputs": [],
   "source": [
    "#sklearn libraries\n",
    "from sklearn.model_selection import train_test_split"
   ]
  },
  {
   "cell_type": "code",
   "execution_count": 3,
   "metadata": {},
   "outputs": [
    {
     "name": "stdout",
     "output_type": "stream",
     "text": [
      "Length of Test = 79\n",
      "Length of Train =  80\n",
      "Index(['MSSubClass', 'MSZoning', 'LotFrontage', 'LotArea', 'Street', 'Alley',\n",
      "       'LotShape', 'LandContour', 'Utilities', 'LotConfig', 'LandSlope',\n",
      "       'Neighborhood', 'Condition1', 'Condition2', 'BldgType', 'HouseStyle',\n",
      "       'OverallQual', 'OverallCond', 'YearBuilt', 'YearRemodAdd', 'RoofStyle',\n",
      "       'RoofMatl', 'Exterior1st', 'Exterior2nd', 'MasVnrType', 'MasVnrArea',\n",
      "       'ExterQual', 'ExterCond', 'Foundation', 'BsmtQual', 'BsmtCond',\n",
      "       'BsmtExposure', 'BsmtFinType1', 'BsmtFinSF1', 'BsmtFinType2',\n",
      "       'BsmtFinSF2', 'BsmtUnfSF', 'TotalBsmtSF', 'Heating', 'HeatingQC',\n",
      "       'CentralAir', 'Electrical', '1stFlrSF', '2ndFlrSF', 'LowQualFinSF',\n",
      "       'GrLivArea', 'BsmtFullBath', 'BsmtHalfBath', 'FullBath', 'HalfBath',\n",
      "       'BedroomAbvGr', 'KitchenAbvGr', 'KitchenQual', 'TotRmsAbvGrd',\n",
      "       'Functional', 'Fireplaces', 'FireplaceQu', 'GarageType', 'GarageYrBlt',\n",
      "       'GarageFinish', 'GarageCars', 'GarageArea', 'GarageQual', 'GarageCond',\n",
      "       'PavedDrive', 'WoodDeckSF', 'OpenPorchSF', 'EnclosedPorch', '3SsnPorch',\n",
      "       'ScreenPorch', 'PoolArea', 'PoolQC', 'Fence', 'MiscFeature', 'MiscVal',\n",
      "       'MoSold', 'YrSold', 'SaleType', 'SaleCondition', 'SalePrice'],\n",
      "      dtype='object')\n",
      "\n",
      "\n",
      "Index(['MSSubClass', 'LotFrontage', 'LotArea', 'OverallQual', 'OverallCond',\n",
      "       'YearBuilt', 'YearRemodAdd', 'MasVnrArea', 'BsmtFinSF1', 'BsmtFinSF2',\n",
      "       'BsmtUnfSF', 'TotalBsmtSF', '1stFlrSF', '2ndFlrSF', 'LowQualFinSF',\n",
      "       'GrLivArea', 'BsmtFullBath', 'BsmtHalfBath', 'FullBath', 'HalfBath',\n",
      "       'BedroomAbvGr', 'KitchenAbvGr', 'TotRmsAbvGrd', 'Fireplaces',\n",
      "       'GarageYrBlt', 'GarageCars', 'GarageArea', 'WoodDeckSF', 'OpenPorchSF',\n",
      "       'EnclosedPorch', '3SsnPorch', 'ScreenPorch', 'PoolArea', 'MiscVal',\n",
      "       'MoSold', 'YrSold', 'SalePrice'],\n",
      "      dtype='object')\n"
     ]
    }
   ],
   "source": [
    "# Import Data set\n",
    "test = pd.read_csv(\"test.csv\", index_col=\"Id\")\n",
    "df = pd.read_csv(\"train.csv\", index_col=\"Id\")\n",
    "\n",
    "# Lets CheckOut the Total No of Features\n",
    "print(\"Length of Test = {}\".format(len(test.columns)))\n",
    "print(\"Length of Train =  {}\".format(len(df.columns)))\n",
    "\n",
    "print(df.columns)\n",
    "print(\"\\n\")\n",
    "print(df._get_numeric_data().columns)"
   ]
  },
  {
   "cell_type": "markdown",
   "metadata": {},
   "source": [
    "# Data Processing"
   ]
  },
  {
   "cell_type": "code",
   "execution_count": 4,
   "metadata": {},
   "outputs": [
    {
     "name": "stdout",
     "output_type": "stream",
     "text": [
      "               SalePrice       skew        kurt\n",
      "SalePrice       1.000000   1.882876    6.536282\n",
      "OverallQual     0.790982   0.216944    0.096293\n",
      "GrLivArea       0.708624   1.366560    4.895121\n",
      "GarageCars      0.640409  -0.342549    0.220998\n",
      "GarageArea      0.623431   0.179981    0.917067\n",
      "TotalBsmtSF     0.613581   1.524255   13.250483\n",
      "1stFlrSF        0.605852   1.376757    5.745841\n",
      "FullBath        0.560664   0.036562   -0.857043\n",
      "TotRmsAbvGrd    0.533723   0.676341    0.880762\n",
      "YearBuilt       0.522897  -0.613461   -0.439552\n",
      "YearRemodAdd    0.507101  -0.503562   -1.272245\n",
      "MasVnrArea      0.472614   2.677616   10.141416\n",
      "Fireplaces      0.466929   0.649565   -0.217237\n",
      "BsmtFinSF1      0.386420   1.685503   11.118236\n",
      "LotFrontage     0.334901   2.384950   21.848165\n",
      "WoodDeckSF      0.324413   1.541376    2.992951\n",
      "2ndFlrSF        0.319334   0.813030   -0.553464\n",
      "OpenPorchSF     0.315856   2.364342    8.490336\n",
      "HalfBath        0.284108   0.675897   -1.076927\n",
      "LotArea         0.263843  12.207688  203.243271\n",
      "GarageYrBlt     0.261366  -3.869501   13.043226\n",
      "BsmtFullBath    0.227122   0.596067   -0.839098\n",
      "BsmtUnfSF       0.214479   0.920268    0.474994\n",
      "BedroomAbvGr    0.168213   0.211790    2.230875\n",
      "ScreenPorch     0.111447   4.122214   18.439068\n",
      "PoolArea        0.092404  14.828374  223.268499\n",
      "MoSold          0.046432   0.212053   -0.404109\n",
      "3SsnPorch       0.044584  10.304342  123.662379\n",
      "BsmtFinSF2     -0.011378   4.255261   20.113338\n",
      "BsmtHalfBath   -0.016844   4.103403   16.396642\n",
      "MiscVal        -0.021190  24.476794  701.003342\n",
      "LowQualFinSF   -0.025606   9.011341   83.234817\n",
      "YrSold         -0.028923   0.096269   -1.190601\n",
      "OverallCond    -0.077856   0.693067    1.106413\n",
      "MSSubClass     -0.084284   1.407657    1.580188\n",
      "EnclosedPorch  -0.128578   3.089872   10.430766\n",
      "KitchenAbvGr   -0.135907   4.488397   21.532404\n",
      "Mapping done for ['ExterQual', 'ExterQual', 'HeatingQC', 'KitchenQual', 'FireplaceQu', 'GarageCond', 'PavedDrive', 'LotShape', 'BsmtQual', 'BsmtCond', 'GarageQual', 'PoolQC', 'BsmtExposure', 'BsmtFinType1', 'BsmtFinType2', 'CentralAir', 'GarageFinish', 'Functional', 'Street', 'Fence', 'Utilities']\n",
      "Mapping done for ['ExterQual', 'ExterQual', 'HeatingQC', 'KitchenQual', 'FireplaceQu', 'GarageCond', 'PavedDrive', 'LotShape', 'BsmtQual', 'BsmtCond', 'GarageQual', 'PoolQC', 'BsmtExposure', 'BsmtFinType1', 'BsmtFinType2', 'CentralAir', 'GarageFinish', 'Functional', 'Street', 'Fence', 'Utilities']\n",
      "['ExterQual', 'ExterQual', 'HeatingQC', 'KitchenQual', 'FireplaceQu', 'GarageCond', 'PavedDrive', 'LotShape', 'BsmtQual', 'BsmtCond', 'GarageQual', 'PoolQC', 'BsmtExposure', 'BsmtFinType1', 'BsmtFinType2', 'CentralAir', 'GarageFinish', 'Functional', 'Street', 'Fence', 'Utilities']\n"
     ]
    }
   ],
   "source": [
    "#Handling the missing data\n",
    "df = missing_data.deal_with_missing_values(df)\n",
    "test = missing_data.deal_with_missing_values(test)\n",
    "\n",
    "##Checking the Quality of the data\n",
    "quality = Quality.quality_check(df, \"SalePrice\")\n",
    "print(quality)\n",
    "\n",
    "## Label Encoding\n",
    "df, mapp = mapper.mapping(df)\n",
    "test, mapp = mapper.mapping(test)\n",
    "print(mapp)"
   ]
  },
  {
   "cell_type": "code",
   "execution_count": 5,
   "metadata": {},
   "outputs": [
    {
     "name": "stdout",
     "output_type": "stream",
     "text": [
      "Total Columns: 250\n",
      "<class 'pandas.core.frame.DataFrame'>\n",
      "Int64Index: 1460 entries, 1 to 1460\n",
      "Columns: 250 entries, LotFrontage to SaleCondition_Partial\n",
      "dtypes: float64(3), int64(54), uint8(193)\n",
      "memory usage: 936.7 KB\n",
      "None\n",
      "Total Columns: 235\n",
      "<class 'pandas.core.frame.DataFrame'>\n",
      "Int64Index: 1459 entries, 1461 to 2919\n",
      "Columns: 235 entries, LotFrontage to SaleCondition_Partial\n",
      "dtypes: float64(11), int64(45), uint8(179)\n",
      "memory usage: 904.8 KB\n",
      "None\n",
      "[]\n"
     ]
    }
   ],
   "source": [
    "##ONE Hot encoding using dummy\n",
    "df, dummies = Encoder.one_hot_encode(df)\n",
    "test, dummies_test = Encoder.one_hot_encode(test)\n",
    "\n",
    "miss = missing_data.find_col_with_missing_data(df)\n",
    "print(miss) # just for assurance"
   ]
  },
  {
   "cell_type": "markdown",
   "metadata": {},
   "source": [
    "#### Note that the size of test and df is different.  The reason behind this is that some categorical features in testset doesnot contains all the unique values. So here i am creating all those cols with 0 value."
   ]
  },
  {
   "cell_type": "code",
   "execution_count": 6,
   "metadata": {},
   "outputs": [
    {
     "name": "stdout",
     "output_type": "stream",
     "text": [
      "Length of Test = 250\n",
      "Length of Train =  250\n"
     ]
    }
   ],
   "source": [
    "dummies = dummies.values\n",
    "dummies_test = dummies_test.values\n",
    "M = list(set(dummies) - set(dummies_test))\n",
    "for i in M:\n",
    "    test[i] = 0\n",
    "print(\"Length of Test = {}\".format(len(test.columns)))\n",
    "print(\"Length of Train =  {}\".format(len(df.columns)))"
   ]
  },
  {
   "cell_type": "markdown",
   "metadata": {},
   "source": [
    "# CONVERTING YEAR DATA INTO AGE"
   ]
  },
  {
   "cell_type": "code",
   "execution_count": 7,
   "metadata": {},
   "outputs": [],
   "source": [
    "def age_Conversion(X):\n",
    "    return X.apply(lambda x: 0 if x == 0 else (2020-x) )\n",
    "df[\"GarageYrBlt\"] = age_Conversion(df[\"GarageYrBlt\"])\n",
    "df[\"YearRemodAdd\"] = age_Conversion(df[\"YearRemodAdd\"])\n",
    "df[\"YearBuilt\"] = age_Conversion(df[\"YearBuilt\"])\n",
    "df[\"YrSold\"] = age_Conversion(df[\"YrSold\"])"
   ]
  },
  {
   "cell_type": "code",
   "execution_count": 8,
   "metadata": {},
   "outputs": [],
   "source": [
    "test[\"GarageYrBlt\"] = age_Conversion(test[\"GarageYrBlt\"])\n",
    "test[\"YearRemodAdd\"] = age_Conversion(test[\"YearRemodAdd\"])\n",
    "test[\"YearBuilt\"] = age_Conversion(test[\"YearBuilt\"])\n",
    "test[\"YrSold\"] = age_Conversion(test[\"YrSold\"])"
   ]
  },
  {
   "cell_type": "markdown",
   "metadata": {},
   "source": [
    "# FEATURE ENGINEERING"
   ]
  },
  {
   "cell_type": "code",
   "execution_count": 9,
   "metadata": {},
   "outputs": [],
   "source": [
    "def add_fet(X):\n",
    "    X[\"Remod\"] = 2\n",
    "    X.loc[(X.YearBuilt==X.YearRemodAdd), ['Remod']] = 0\n",
    "    X.loc[(X.YearBuilt!=X.YearRemodAdd), ['Remod']] = 1\n",
    "    X.Remod\n",
    "    X[\"Age\"] = X.YearRemodAdd - X.YrSold # sice I convert both to age\n",
    "    X[\"IsNew\"] = 2\n",
    "    X.loc[(X.YearBuilt==X.YrSold), ['IsNew']] = 1\n",
    "    X.loc[(X.YearBuilt!=X.YrSold), ['IsNew']] = 0\n",
    "    return X\n",
    "df = add_fet(df)\n",
    "test = add_fet(test)"
   ]
  },
  {
   "cell_type": "code",
   "execution_count": 10,
   "metadata": {},
   "outputs": [],
   "source": [
    "def fet_Engineering(X):\n",
    "    X[\"Garage_Area_Car\"] = X[\"GarageCars\"] * X[\"GarageArea\"]\n",
    "\n",
    "    X['TotalBsmtSF_x_Bsm'] = X.TotalBsmtSF * X['1stFlrSF']\n",
    "\n",
    "    #TotalArea = [\"GrLivArea\", \"TotalBsmtSF\", \"WoodDeckSF\", \"MasVnrArea\", \"GarageArea\", \"OpenPorchSF\", \"3SsnPorch\", \"ScreenPorch\", \"EnclosedPorch\", \"PoolArea\" ]\n",
    "    X[\"TotalArea\"] = X.GrLivArea + X.TotalBsmtSF + X.WoodDeckSF + X.MasVnrArea + X.GarageArea + X.OpenPorchSF + X[\"3SsnPorch\"] + X.ScreenPorch + X.EnclosedPorch + X.PoolArea\n",
    "    #df.drop(TotalArea, axis=1, inplace=True)\n",
    "\n",
    "    X['LotAreaMultSlope'] = X.LotArea * X.LandSlope\n",
    "    #df.drop([ \"MiscVal\", \"GarageCars\", \"1stFlrSF\", \"LotArea\", \"LandSlope\", \"Utilities\"], axis=1, inplace=True)\n",
    "    \n",
    "    return X\n",
    "\n",
    "df = fet_Engineering(df)\n",
    "test = fet_Engineering(test)"
   ]
  },
  {
   "cell_type": "markdown",
   "metadata": {},
   "source": [
    "# Handling Skewd data"
   ]
  },
  {
   "cell_type": "markdown",
   "metadata": {},
   "source": [
    "What is skewd data?\n",
    "A data is called as skewed when curve appears distorted or skewed either to the left or to the right, in a statistical distribution. In a normal distribution, the graph appears symmetry meaning that there are about as many data values on the left side of the median as on the right side."
   ]
  },
  {
   "cell_type": "markdown",
   "metadata": {},
   "source": [
    "How does it affects the model?\n",
    "So in skewed data, the tail region may act as an outlier for the statistical model and we know that outliers adversely affect the model’s performance especially regression-based models."
   ]
  },
  {
   "cell_type": "code",
   "execution_count": 11,
   "metadata": {},
   "outputs": [
    {
     "name": "stdout",
     "output_type": "stream",
     "text": [
      "                   SalePrice      skew      kurt\n",
      "SalePrice           1.000000  0.121347  0.809519\n",
      "TotalArea           0.838092 -0.341445  1.978518\n",
      "OverallQual         0.817185  0.216944  0.096293\n",
      "GrLivArea           0.730254 -0.006140  0.281988\n",
      "GarageCars          0.680625 -0.342549  0.220998\n",
      "...                      ...       ...       ...\n",
      "GarageType_Detchd  -0.388638  1.065652 -0.865574\n",
      "MasVnrType_None    -0.395389 -0.373853 -1.862787\n",
      "YearRemodAdd       -0.565608  0.503562 -1.272245\n",
      "Age                -0.568136  0.502489 -1.266028\n",
      "YearBuilt          -0.586570  0.613461 -0.439552\n",
      "\n",
      "[257 rows x 3 columns]\n"
     ]
    }
   ],
   "source": [
    "quality2 = Quality.quality_check(df, \"SalePrice\")\n",
    "mapp.remove(\"Utilities\") ## this col is useless \n",
    "\n",
    "#returns a list of cols where |skewd| > 1\n",
    "#return a list of cols where |kurt| > 3\n",
    "def get_skewd_kurts_cols(X):\n",
    "    L1 = X[(X['skew'] > 1) | (X['skew'] < -1) ].index.tolist()\n",
    "    L2 = X[(X['kurt'] > 3) | (X['kurt'] < -3) ].index.tolist()\n",
    "    return L1,L2\n",
    "skewd, _ = get_skewd_kurts_cols(quality2)\n",
    "\n",
    "\n",
    "## Handling the skewd data \n",
    "def handle_skewd_data(L, X):\n",
    "    for col in L:\n",
    "        try: \n",
    "            X[col] = np.log1p(X[col])\n",
    "        except:\n",
    "            pass\n",
    "            \n",
    "    return X\n",
    "\n",
    "temp_df = df[mapp]\n",
    "temp_test = test[mapp]\n",
    "df = handle_skewd_data(skewd, df)\n",
    "test = handle_skewd_data(skewd, test)##Uncomment if you want to handle the skewd data\n",
    "df[mapp] = temp_df\n",
    "test[mapp] = temp_test\n",
    "\n",
    "quality3 = Quality.quality_check(df, \"SalePrice\")\n",
    "print(quality3)"
   ]
  },
  {
   "cell_type": "markdown",
   "metadata": {},
   "source": [
    "# Split the data"
   ]
  },
  {
   "cell_type": "code",
   "execution_count": 12,
   "metadata": {},
   "outputs": [],
   "source": [
    "y = df[['SalePrice']]\n",
    "df.drop(['SalePrice'], axis=1, inplace=True)\n",
    "X = df\n",
    "\n",
    "X_train, X_test, y_train, y_test=train_test_split(X,y, test_size=0.15, random_state=0)\n",
    "\n",
    "cols = X.columns\n",
    "num_cols = X._get_numeric_data().columns\n",
    "cat_cols = list(set(cols) - set(num_cols))"
   ]
  },
  {
   "cell_type": "code",
   "execution_count": 13,
   "metadata": {
    "scrolled": true
   },
   "outputs": [
    {
     "name": "stdout",
     "output_type": "stream",
     "text": [
      "Index(['LotFrontage', 'LotArea', 'Street', 'LotShape', 'Utilities',\n",
      "       'LandSlope', 'OverallQual', 'OverallCond', 'YearBuilt', 'YearRemodAdd',\n",
      "       ...\n",
      "       'SaleCondition_Family', 'SaleCondition_Normal', 'SaleCondition_Partial',\n",
      "       'Remod', 'Age', 'IsNew', 'Garage_Area_Car', 'TotalBsmtSF_x_Bsm',\n",
      "       'TotalArea', 'LotAreaMultSlope'],\n",
      "      dtype='object', length=256)\n"
     ]
    },
    {
     "data": {
      "text/plain": [
       "(1241, 256)"
      ]
     },
     "execution_count": 13,
     "metadata": {},
     "output_type": "execute_result"
    }
   ],
   "source": [
    "type(X_train)\n",
    "print(X_train._get_numeric_data().columns)\n",
    "X_train.shape"
   ]
  },
  {
   "cell_type": "markdown",
   "metadata": {},
   "source": [
    "### Feature Elimination using P Value"
   ]
  },
  {
   "cell_type": "markdown",
   "metadata": {},
   "source": [
    "What is p value?\n",
    "The p-value is used as an alternative to rejection points to provide the smallest level of significance at which the null hypothesis would be rejected. A smaller p-value means that there is stronger evidence in favor of the alternative hypothesis."
   ]
  },
  {
   "cell_type": "code",
   "execution_count": 14,
   "metadata": {},
   "outputs": [],
   "source": [
    "def Backward_Elimination(y, X, sl):\n",
    "    cols = X.columns.values\n",
    "    ini = len(cols)\n",
    "    col_vars = X.shape[1]\n",
    "    for i in range (0, col_vars):\n",
    "        Regressor = sm.OLS(y, X).fit()\n",
    "        maxVar = max(Regressor.pvalues)\n",
    "        if maxVar > sl:\n",
    "            for j in range(0, col_vars-i):\n",
    "                if (Regressor.pvalues[j].astype(float) == maxVar):\n",
    "                    cols = np.delete(cols, j)\n",
    "                    X = X.loc[:, cols]\n",
    "        \n",
    "    print('\\nSelect {:d} features from {:d} by best p-values.'.format(len(cols), ini))\n",
    "    print(Regressor.summary())\n",
    "    return cols"
   ]
  },
  {
   "cell_type": "code",
   "execution_count": 15,
   "metadata": {},
   "outputs": [
    {
     "name": "stdout",
     "output_type": "stream",
     "text": [
      "\n",
      "Select 133 features from 256 by best p-values.\n",
      "                            OLS Regression Results                            \n",
      "==============================================================================\n",
      "Dep. Variable:              SalePrice   R-squared:                       0.944\n",
      "Model:                            OLS   Adj. R-squared:                  0.938\n",
      "Method:                 Least Squares   F-statistic:                     157.3\n",
      "Date:                Thu, 25 Feb 2021   Prob (F-statistic):               0.00\n",
      "Time:                        01:50:00   Log-Likelihood:                 1152.5\n",
      "No. Observations:                1241   AIC:                            -2063.\n",
      "Df Residuals:                    1120   BIC:                            -1443.\n",
      "Df Model:                         120                                         \n",
      "Covariance Type:            nonrobust                                         \n",
      "=========================================================================================\n",
      "                            coef    std err          t      P>|t|      [0.025      0.975]\n",
      "-----------------------------------------------------------------------------------------\n",
      "OverallQual               0.0490      0.004     11.240      0.000       0.040       0.057\n",
      "OverallCond               0.0374      0.004     10.180      0.000       0.030       0.045\n",
      "YearBuilt                -0.0018      0.000     -6.384      0.000      -0.002      -0.001\n",
      "BsmtExposure              0.0156      0.004      4.287      0.000       0.008       0.023\n",
      "BsmtFinType1              0.0070      0.002      3.024      0.003       0.002       0.012\n",
      "BsmtUnfSF             -4.382e-05   1.21e-05     -3.610      0.000   -6.76e-05      -2e-05\n",
      "TotalBsmtSF               0.1189      0.048      2.484      0.013       0.025       0.213\n",
      "HeatingQC                 0.0122      0.004      2.871      0.004       0.004       0.021\n",
      "CentralAir                0.0502      0.016      3.130      0.002       0.019       0.082\n",
      "1stFlrSF                  0.1102      0.046      2.383      0.017       0.019       0.201\n",
      "2ndFlrSF               7.591e-05   2.82e-05      2.694      0.007    2.06e-05       0.000\n",
      "GrLivArea                 0.1844      0.060      3.054      0.002       0.066       0.303\n",
      "BsmtFullBath              0.0254      0.008      3.019      0.003       0.009       0.042\n",
      "FullBath                  0.0343      0.010      3.561      0.000       0.015       0.053\n",
      "HalfBath                  0.0328      0.009      3.458      0.001       0.014       0.051\n",
      "BedroomAbvGr             -0.0110      0.006     -1.961      0.050      -0.022    5.87e-06\n",
      "KitchenQual               0.0262      0.007      3.606      0.000       0.012       0.040\n",
      "Functional                0.0301      0.005      5.727      0.000       0.020       0.040\n",
      "Fireplaces                0.0224      0.006      3.802      0.000       0.011       0.034\n",
      "GarageCars                0.0627      0.015      4.268      0.000       0.034       0.092\n",
      "GarageArea                0.0001   4.47e-05      2.448      0.015    2.17e-05       0.000\n",
      "GarageQual                0.0455      0.014      3.333      0.001       0.019       0.072\n",
      "Fence                    -0.0058      0.003     -2.122      0.034      -0.011      -0.000\n",
      "MSSubClass_90             0.2839      0.023     12.528      0.000       0.239       0.328\n",
      "MSZoning_FV               0.6951      0.060     11.567      0.000       0.577       0.813\n",
      "MSZoning_RH               0.6447      0.066      9.756      0.000       0.515       0.774\n",
      "MSZoning_RL               0.6225      0.055     11.270      0.000       0.514       0.731\n",
      "MSZoning_RM               0.5452      0.056      9.811      0.000       0.436       0.654\n",
      "Alley_Grvl                0.9601      0.049     19.401      0.000       0.863       1.057\n",
      "Alley_Pave                0.9869      0.051     19.329      0.000       0.887       1.087\n",
      "Alley_none                0.9631      0.046     20.983      0.000       0.873       1.053\n",
      "LandContour_Bnk           0.7153      0.039     18.204      0.000       0.638       0.792\n",
      "LandContour_HLS           0.7463      0.040     18.752      0.000       0.668       0.824\n",
      "LandContour_Low           0.7348      0.041     17.851      0.000       0.654       0.816\n",
      "LandContour_Lvl           0.7136      0.038     18.973      0.000       0.640       0.787\n",
      "LotConfig_Corner          0.6992      0.040     17.672      0.000       0.622       0.777\n",
      "LotConfig_CulDSac         0.7405      0.043     17.272      0.000       0.656       0.825\n",
      "LotConfig_FR2             0.6826      0.042     16.069      0.000       0.599       0.766\n",
      "LotConfig_FR3             0.4528      0.094      4.813      0.000       0.268       0.637\n",
      "LotConfig_Inside          0.4831      0.027     17.971      0.000       0.430       0.536\n",
      "Neighborhood_BrkSide      0.1352      0.025      5.358      0.000       0.086       0.185\n",
      "Neighborhood_ClearCr      0.0765      0.037      2.072      0.038       0.004       0.149\n",
      "Neighborhood_Crawfor      0.2084      0.026      7.930      0.000       0.157       0.260\n",
      "Neighborhood_Edwards     -0.0533      0.019     -2.763      0.006      -0.091      -0.015\n",
      "Neighborhood_NoRidge      0.0970      0.030      3.267      0.001       0.039       0.155\n",
      "Neighborhood_NridgHt      0.1241      0.024      5.186      0.000       0.077       0.171\n",
      "Neighborhood_StoneBr      0.1612      0.036      4.422      0.000       0.090       0.233\n",
      "Condition1_Norm           0.0802      0.014      5.936      0.000       0.054       0.107\n",
      "Condition2_Feedr          0.2544      0.086      2.952      0.003       0.085       0.423\n",
      "Condition2_PosN          -0.9551      0.111     -8.567      0.000      -1.174      -0.736\n",
      "BldgType_1Fam             0.6893      0.034     20.243      0.000       0.622       0.756\n",
      "BldgType_2fmCon           0.6417      0.044     14.658      0.000       0.556       0.728\n",
      "BldgType_Duplex           0.2839      0.023     12.528      0.000       0.239       0.328\n",
      "BldgType_Twnhs            0.6331      0.036     17.738      0.000       0.563       0.703\n",
      "BldgType_TwnhsE           0.6621      0.033     20.001      0.000       0.597       0.727\n",
      "HouseStyle_1.5Fin         0.3905      0.029     13.681      0.000       0.335       0.447\n",
      "HouseStyle_1.5Unf         0.4631      0.046      9.985      0.000       0.372       0.554\n",
      "HouseStyle_1Story         0.3072      0.020     15.661      0.000       0.269       0.346\n",
      "HouseStyle_2.5Fin         0.3838      0.062      6.168      0.000       0.262       0.506\n",
      "HouseStyle_2.5Unf         0.4381      0.051      8.583      0.000       0.338       0.538\n",
      "HouseStyle_2Story         0.2578      0.021     12.444      0.000       0.217       0.298\n",
      "HouseStyle_SFoyer         0.4228      0.038     11.111      0.000       0.348       0.497\n",
      "HouseStyle_SLvl           0.4200      0.032     13.300      0.000       0.358       0.482\n",
      "RoofStyle_Flat            0.4696      0.100      4.708      0.000       0.274       0.665\n",
      "RoofStyle_Gable           0.4732      0.041     11.517      0.000       0.393       0.554\n",
      "RoofStyle_Gambrel         0.4107      0.059      6.920      0.000       0.294       0.527\n",
      "RoofStyle_Hip             0.4978      0.042     11.755      0.000       0.415       0.581\n",
      "RoofStyle_Mansard         0.5267      0.066      7.952      0.000       0.397       0.657\n",
      "RoofStyle_Shed            0.5321      0.116      4.593      0.000       0.305       0.759\n",
      "RoofMatl_ClyTile         -1.7223      0.156    -11.050      0.000      -2.028      -1.416\n",
      "RoofMatl_CompShg          0.5661      0.058      9.760      0.000       0.452       0.680\n",
      "RoofMatl_Membran          0.8280      0.155      5.340      0.000       0.524       1.132\n",
      "RoofMatl_Metal            0.7324      0.156      4.702      0.000       0.427       1.038\n",
      "RoofMatl_Roll             0.5186      0.145      3.573      0.000       0.234       0.803\n",
      "RoofMatl_Tar&Grv          0.6231      0.087      7.140      0.000       0.452       0.794\n",
      "RoofMatl_WdShake          0.5787      0.092      6.313      0.000       0.399       0.759\n",
      "RoofMatl_WdShngl          0.7856      0.084      9.389      0.000       0.621       0.950\n",
      "Exterior1st_BrkComm      -0.6900      0.151     -4.569      0.000      -0.986      -0.394\n",
      "Exterior1st_BrkFace       0.1097      0.025      4.374      0.000       0.060       0.159\n",
      "Exterior1st_MetalSd       0.0408      0.014      2.933      0.003       0.014       0.068\n",
      "Exterior1st_VinylSd       0.0219      0.010      2.304      0.021       0.003       0.041\n",
      "Exterior2nd_CmentBd       0.0535      0.025      2.177      0.030       0.005       0.102\n",
      "MasVnrType_BrkCmn         0.7131      0.053     13.573      0.000       0.610       0.816\n",
      "MasVnrType_BrkFace        0.5056      0.028     18.372      0.000       0.452       0.560\n",
      "MasVnrType_None           0.5192      0.026     20.021      0.000       0.468       0.570\n",
      "MasVnrType_Stone          0.7737      0.040     19.362      0.000       0.695       0.852\n",
      "MasVnrType_none           0.7127      0.059     12.146      0.000       0.598       0.828\n",
      "Foundation_BrkTil         0.5466      0.039     13.881      0.000       0.469       0.624\n",
      "Foundation_CBlock         0.3958      0.027     14.893      0.000       0.344       0.448\n",
      "Foundation_PConc          0.4080      0.028     14.733      0.000       0.354       0.462\n",
      "Foundation_Slab           0.5651      0.058      9.685      0.000       0.451       0.680\n",
      "Foundation_Stone          0.7493      0.065     11.465      0.000       0.621       0.878\n",
      "Foundation_Wood           0.4918      0.096      5.127      0.000       0.304       0.680\n",
      "Heating_GasW              0.0892      0.044      2.025      0.043       0.003       0.176\n",
      "Electrical_FuseA          0.6148      0.047     12.947      0.000       0.522       0.708\n",
      "Electrical_FuseF          0.5929      0.051     11.529      0.000       0.492       0.694\n",
      "Electrical_FuseP          0.5302      0.089      5.944      0.000       0.355       0.705\n",
      "Electrical_Mix            0.5913      0.131      4.503      0.000       0.334       0.849\n",
      "Electrical_SBrkr          0.5810      0.046     12.515      0.000       0.490       0.672\n",
      "GarageType_Attchd         0.1403      0.045      3.106      0.002       0.052       0.229\n",
      "GarageType_Basment        0.1766      0.079      2.250      0.025       0.023       0.331\n",
      "GarageType_BuiltIn        0.2014      0.069      2.939      0.003       0.067       0.336\n",
      "GarageType_CarPort        0.2118      0.090      2.353      0.019       0.035       0.388\n",
      "GarageType_Detchd         0.2202      0.065      3.411      0.001       0.094       0.347\n",
      "MiscFeature_Gar2          0.6822      0.104      6.560      0.000       0.478       0.886\n",
      "MiscFeature_Othr          0.7155      0.097      7.376      0.000       0.525       0.906\n",
      "MiscFeature_Shed          0.7577      0.054     14.023      0.000       0.652       0.864\n",
      "MiscFeature_none          0.7546      0.051     14.708      0.000       0.654       0.855\n",
      "MoSold_1                  0.2656      0.022     11.874      0.000       0.222       0.310\n",
      "MoSold_10                 0.2084      0.020     10.202      0.000       0.168       0.248\n",
      "MoSold_11                 0.2280      0.021     11.026      0.000       0.187       0.269\n",
      "MoSold_12                 0.2307      0.023     10.054      0.000       0.186       0.276\n",
      "MoSold_2                  0.2215      0.025      9.036      0.000       0.173       0.270\n",
      "MoSold_3                  0.2476      0.020     12.460      0.000       0.209       0.287\n",
      "MoSold_4                  0.2496      0.018     14.086      0.000       0.215       0.284\n",
      "MoSold_5                  0.2666      0.016     16.471      0.000       0.235       0.298\n",
      "MoSold_6                  0.2588      0.015     16.929      0.000       0.229       0.289\n",
      "MoSold_7                  0.2534      0.016     16.033      0.000       0.222       0.284\n",
      "MoSold_8                  0.2344      0.019     12.610      0.000       0.198       0.271\n",
      "MoSold_9                  0.2454      0.023     10.882      0.000       0.201       0.290\n",
      "SaleType_ConLD            0.2192      0.064      3.408      0.001       0.093       0.345\n",
      "SaleType_New              0.5271      0.117      4.494      0.000       0.297       0.757\n",
      "SaleCondition_Abnorml     0.3255      0.116      2.800      0.005       0.097       0.554\n",
      "SaleCondition_AdjLand     0.5546      0.141      3.921      0.000       0.277       0.832\n",
      "SaleCondition_Alloca      0.4982      0.130      3.832      0.000       0.243       0.753\n",
      "SaleCondition_Family      0.4019      0.122      3.282      0.001       0.162       0.642\n",
      "SaleCondition_Normal      0.4145      0.115      3.602      0.000       0.189       0.640\n",
      "Age                      -0.0005      0.000     -2.011      0.045      -0.001   -1.22e-05\n",
      "IsNew                    -0.0581      0.030     -1.960      0.050      -0.116    6.37e-05\n",
      "Garage_Area_Car          -0.0623      0.013     -4.711      0.000      -0.088      -0.036\n",
      "TotalBsmtSF_x_Bsm        -0.0611      0.023     -2.653      0.008      -0.106      -0.016\n",
      "TotalArea                 0.2872      0.052      5.519      0.000       0.185       0.389\n",
      "LotAreaMultSlope          0.0733      0.010      7.181      0.000       0.053       0.093\n",
      "==============================================================================\n",
      "Omnibus:                      235.555   Durbin-Watson:                   1.990\n",
      "Prob(Omnibus):                  0.000   Jarque-Bera (JB):             1811.742\n",
      "Skew:                          -0.655   Prob(JB):                         0.00\n",
      "Kurtosis:                       8.773   Cond. No.                     1.08e+16\n",
      "==============================================================================\n",
      "\n",
      "Warnings:\n",
      "[1] Standard Errors assume that the covariance matrix of the errors is correctly specified.\n",
      "[2] The smallest eigenvalue is 8.93e-24. This might indicate that there are\n",
      "strong multicollinearity problems or that the design matrix is singular.\n"
     ]
    },
    {
     "data": {
      "text/plain": [
       "133"
      ]
     },
     "execution_count": 15,
     "metadata": {},
     "output_type": "execute_result"
    }
   ],
   "source": [
    "colum = Backward_Elimination(y_train, X_train, 0.051)\n",
    "len(colum)"
   ]
  },
  {
   "cell_type": "markdown",
   "metadata": {},
   "source": [
    "###  Converting DataFrames into Numpy arrays and saving it in .npy format"
   ]
  },
  {
   "cell_type": "code",
   "execution_count": 16,
   "metadata": {},
   "outputs": [],
   "source": [
    "X_train =X_train[colum].values\n",
    "y_train = y_train.values\n",
    "X_val =X_test[colum].values\n",
    "y_val = y_test.values\n",
    "test = test[colum].values"
   ]
  },
  {
   "cell_type": "code",
   "execution_count": 17,
   "metadata": {},
   "outputs": [],
   "source": [
    "np.save('X_train.npy', X_train)\n",
    "np.save('y_train.npy', y_train)\n",
    "np.save('X_val.npy', X_val)\n",
    "np.save('y_val.npy', y_val)\n",
    "np.save('test.npy', test)"
   ]
  }
 ],
 "metadata": {
  "kernelspec": {
   "display_name": "Python 3",
   "language": "python",
   "name": "python3"
  },
  "language_info": {
   "codemirror_mode": {
    "name": "ipython",
    "version": 3
   },
   "file_extension": ".py",
   "mimetype": "text/x-python",
   "name": "python",
   "nbconvert_exporter": "python",
   "pygments_lexer": "ipython3",
   "version": "3.7.6"
  }
 },
 "nbformat": 4,
 "nbformat_minor": 4
}
